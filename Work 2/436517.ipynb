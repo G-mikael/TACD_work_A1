{
 "cells": [
  {
   "cell_type": "code",
   "execution_count": 58,
   "id": "dd71f212-b8dc-4f83-a4c9-4b2a5b7e8625",
   "metadata": {
    "tags": []
   },
   "outputs": [
    {
     "data": {
      "text/plain": [
       "436517"
      ]
     },
     "execution_count": 58,
     "metadata": {},
     "output_type": "execute_result"
    }
   ],
   "source": [
    "# Place here the same 6-digit number you selected for the first coursework. \n",
    "# Make sure that you keep a copy of this number and avoid trivial numbers, such as 000000 or 123456 -- thank you!\n",
    "436517"
   ]
  },
  {
   "cell_type": "markdown",
   "id": "d05468eb-e9d9-44b3-80f7-d1e1dc7296b1",
   "metadata": {
    "tags": []
   },
   "source": [
    "# Assignment 2 - Regression and Classification\n",
    "\n",
    "Second assessed coursework for the course: Técnicas e Algoritmos em Ciência de Dados\n",
    "\n",
    "This coursework aims to provide students with a comprehensive understanding of linear regression with polynomial basis functions and classification with K-nearest neighbours. Specifically, students will learn about key concepts related to the model's generalisation ability by changing the degree of the polynomial and the size of the dataset. In the second part of the coursework, students will delve into classification using the K-nearest neighbours algorithm. Finally, students will be introduced to the concept of using a validation set to select the optimal value of $K$ for their classification model. By the end of this coursework, students will have gained a solid understanding of these key concepts and be equipped with the skills to apply them in practical scenarios.\n",
    "\n",
    "## General guidelines:\n",
    "\n",
    "* This work must be entirely original. You are allowed to research documentation for specific libraries, but copying solutions from the internet or your classmates is strictly prohibited. Any such actions will result in a deduction of points for the coursework.\n",
    "* Please enter your code in the designated areas of the notebook. You can create additional code cells to experiment with, but __make sure to place your final solutions where they are requested in the notebook.__\n",
    "* Before submitting your work, make sure to rename the file to the random number that you created for the previous coursework (for example, 289479.ipynb).\n",
    "\n",
    "## Notebook Overview:\n",
    "\n",
    "1. [Polynomial Fitting Visualisation](#Polynomial-Fitting-Visualisation) (50%)\n",
    "2. [Classification with KNN](#Classification-with-KNN) (50%)"
   ]
  },
  {
   "cell_type": "code",
   "execution_count": 59,
   "id": "5bbccb7a-e176-497e-afe5-107d94f6ccf9",
   "metadata": {
    "tags": []
   },
   "outputs": [],
   "source": [
    "%matplotlib inline\n",
    "import pandas as pd\n",
    "import numpy as np\n",
    "import matplotlib.pyplot as plt\n",
    "import seaborn as sns\n",
    "from sklearn.metrics import mean_squared_error\n",
    "from sklearn.model_selection import train_test_split\n",
    "import pickle as pkl\n",
    "from sklearn.datasets import load_digits"
   ]
  },
  {
   "cell_type": "markdown",
   "id": "0e1e05a8-860b-45c1-9e23-1e2ae348d7ee",
   "metadata": {},
   "source": [
    "# Polynomial Fitting Visualisation\n",
    "In this exercise you will explore the effect that the degree of the polynomial and the size of the training data has on the model's performance and generalisation ability.\n",
    "\n",
    "1. Generate a 2D dataset of 15 points $(x_i,y_i)$ for $i=1..15$ using a sine wave perturbed by a small gaussian noise --- this is very similar to what you did in the lab.\n",
    "    - The $x_i$ should be equally spaced in the $[0-10]$ interval \n",
    "    - Use: $y_i = 4*sin(x_i) + \\epsilon$, where $\\epsilon$ is gaussian noise (with $\\mu=0$ and $\\sigma=1$).\n",
    "    - To ensure reproducibility of your results, use (provided below): \n",
    "    `rng = np.random.default_rng(13)` and\n",
    "    `random_state = np.random.RandomState(13)`\n",
    "    \n",
    "2. Split the points randomly into a training and testing sets of size 10 and 5, respectively.\n",
    "    \n",
    "3. Learn the weights of the linear regression for  polynomial models of degree $M$ for $M = 0..9$ . For each value of $M$ calculate the Root Mean Squared Error (RMSE) for the training and testing sets and plot these values against $M$. Your figure should be similar to Figure 1 from the Coursework document.\n",
    "\n",
    "4. In the last part of this exercise, you will have to create more points for training (using the same sine wave perturbed by a small gaussian noise as described in point 1). For testing, you will continue to use the same 5 points you used in points 1 to 3. Learn the weights of the linear regression for  polynomial models of degree $M=9$ for training sets of size $N$ with $N=10:500:10$ (that is, from $N=10$ to $N=500$ in steps of $10$). For each value of $N$ calculate the Root Mean Squared Error (RMSE) for the training and testing sets and plot these values against $N$. Your figure should be similar to Figure 2 from the Coursework document.\n",
    "\n",
    "* Note that for parts 3 and 4 you are supposed to write your code from scratch and you cannot use existing functions such as `PolynomialFeatures`, `LinearRegression` or `mean_squared_error`.\n",
    "* _Observation: in this exercise we are not using the validation set because our goal is not to choose a specific model but rather to analyse the behaviour of the family of models._"
   ]
  },
  {
   "cell_type": "markdown",
   "id": "8da4fed1-c4ad-4b5d-914b-0debae29f1b6",
   "metadata": {},
   "source": [
    "### Generate the data"
   ]
  },
  {
   "cell_type": "code",
   "execution_count": 60,
   "id": "748c64e9-3c3e-4e25-88d5-ac8943bc4671",
   "metadata": {},
   "outputs": [],
   "source": [
    "rng = np.random.default_rng(13)\n",
    "random_state = np.random.RandomState(13)"
   ]
  },
  {
   "cell_type": "code",
   "execution_count": 61,
   "id": "11f869dc-1b96-4aaa-b2d9-d2ad0c709d84",
   "metadata": {
    "tags": []
   },
   "outputs": [
    {
     "name": "stdout",
     "output_type": "stream",
     "text": [
      "[ 0.          0.71428571  1.42857143  2.14285714  2.85714286  3.57142857\n",
      "  4.28571429  5.          5.71428571  6.42857143  7.14285714  7.85714286\n",
      "  8.57142857  9.28571429 10.        ]\n",
      "[ 1.82675656 -0.45802032  4.91767628  3.43278565  2.44076762 -1.28125736\n",
      " -1.81412915 -3.80395334 -2.6710506   1.15998287  3.46262052  3.64314066\n",
      "  2.76664309  1.27390424 -1.47176845]\n"
     ]
    }
   ],
   "source": [
    "# your code goes here:\n",
    "\n",
    "#Definindo os parâmetros\n",
    "mu = 0\n",
    "theta = 1\n",
    "rng = np.random.default_rng(13)\n",
    "random_state = np.random.RandomState(13)\n",
    "\n",
    "#Gerando os valores de x igualmente espaçados\n",
    "x = np.linspace(0, 10, 15)\n",
    "\n",
    "#Gerando os valores de y perturbados pelo ruído gaussiano\n",
    "y = 4 * np.sin(x) + rng.normal(mu, theta, 15)\n",
    "\n",
    "print(x)\n",
    "print(y)"
   ]
  },
  {
   "cell_type": "markdown",
   "id": "51c1ce30-85ed-4c2b-8a16-0b9b3a5096b4",
   "metadata": {},
   "source": [
    "### Split the points into training and testing\n",
    "Feel free to use `train_test_split(x, y, test_size = ?, random_state = random_state)`, remember to calculate the right proportion for the `test_size` so that you end up with 5 points in the testing set."
   ]
  },
  {
   "cell_type": "code",
   "execution_count": 62,
   "id": "756d1c8f-c2b9-453b-99e2-4d556e8a60a2",
   "metadata": {},
   "outputs": [
    {
     "name": "stdout",
     "output_type": "stream",
     "text": [
      "Tamanho do set de treino:  10\n",
      "Tamanho do set de testes:  5\n"
     ]
    }
   ],
   "source": [
    "# your code goes here:\n",
    "#Train test split com test size 1/3 garantindo 5 pontos no set de testes\n",
    "x_treino, x_teste, y_treino, y_teste = train_test_split(x, y, test_size=1/3, random_state=random_state)\n",
    "\n",
    "print(\"Tamanho do set de treino: \", len(x_treino))\n",
    "print(\"Tamanho do set de testes: \", len(x_teste))"
   ]
  },
  {
   "cell_type": "markdown",
   "id": "ca6597f4-0af5-4fa7-929b-4f3f8b02c61c",
   "metadata": {},
   "source": [
    "### Degree vs. RMSE\n",
    "Generate the plot (as in __Figure 1__) of the RMSE during training and testing at different values of of the polynomial degree $M$."
   ]
  },
  {
   "cell_type": "code",
   "execution_count": 63,
   "id": "4d86279b-109e-4ff0-9f32-6f8c0a1b5f81",
   "metadata": {},
   "outputs": [
    {
     "data": {
      "image/png": "[encoded data removed]",
      "text/plain": [
       "<Figure size 640x480 with 1 Axes>"
      ]
     },
     "metadata": {},
     "output_type": "display_data"
    }
   ],
   "source": [
    "# your code goes here:\n",
    "degrees = range(1,10)\n",
    "rmse_treino = []\n",
    "rmse_teste = []\n",
    "\n",
    "# Graus polinomiais a serem testados\n",
    "degrees = range(1, 10)\n",
    "\n",
    "# Loop pelos graus polinomiais\n",
    "for degree in degrees:\n",
    "    # Geração das features polinomiais\n",
    "    X_treino_polinomial = np.column_stack([x_treino ** i for i in range(1, degree+1)])\n",
    "    X_teste_polinomial = np.column_stack([x_teste ** i for i in range(1, degree+1)])\n",
    "\n",
    "    # Cálculo dos coeficientes do modelo de regressão linear\n",
    "    theta = np.linalg.inv(X_treino_polinomial.T.dot(X_treino_polinomial)).dot(X_treino_polinomial.T).dot(y_treino)\n",
    "\n",
    "    # Previsão no conjunto de treino e no conjunto teste respectivamente\n",
    "    y_treino_pred = X_treino_polinomial.dot(theta)\n",
    "    y_teste_pred = X_teste_polinomial.dot(theta)\n",
    "\n",
    "    # Cálculo do RMSE de treino e teste respectivamente\n",
    "    rmse_treino.append(np.sqrt(np.sum((y_treino - y_treino_pred) ** 2) / len(y_treino)))\n",
    "    rmse_teste.append(np.sqrt(np.sum((y_teste - y_teste_pred) ** 2) / len(y_teste)))\n",
    "\n",
    "# Plot dos resultados\n",
    "plt.plot(degrees, rmse_treino, label='Treino')\n",
    "plt.plot(degrees, rmse_teste, label='Teste', linestyle='-.', marker='o')\n",
    "plt.xlabel('Grau Do Polinomio M')\n",
    "plt.ylabel('RMSE')\n",
    "plt.legend()\n",
    "plt.show()"
   ]
  },
  {
   "cell_type": "markdown",
   "id": "395409e1-7280-4420-88ed-2fc635b914d0",
   "metadata": {},
   "source": [
    "### Training set size vs. RMSE\n",
    "Generate the plot (as in __Figure 2__) of the RMSE during training and testing at different training set sizes $N$."
   ]
  },
  {
   "cell_type": "code",
   "execution_count": 76,
   "id": "bc515bf6-c077-49c0-928d-a1300f3967e2",
   "metadata": {},
   "outputs": [
    {
     "data": {
      "image/png": "[encoded data removed]",
      "text/plain": [
       "<Figure size 640x480 with 1 Axes>"
      ]
     },
     "metadata": {},
     "output_type": "display_data"
    }
   ],
   "source": [
    "# your code goes here:\n",
    "mu = 0\n",
    "theta = 1\n",
    "rng = np.random.default_rng(13)\n",
    "random_state = np.random.RandomState(13)\n",
    "\n",
    "degree = 9\n",
    "rmse_treino = []\n",
    "rmse_teste = []\n",
    "conjunto_x_treino = []\n",
    "conjunto_x_teste = []\n",
    "conjunto_y_treino =[]\n",
    "conjunto_y_teste = []\n",
    "tamanho_conjunto_treino = []\n",
    "\n",
    "#gerando x e y para diferentes tamanhos de treinos\n",
    "for size in range(15, 506, 10):\n",
    "    x = np.linspace(0, 10, size)\n",
    "    y = 4 * np.sin(x) + rng.normal(mu, theta, size)\n",
    "\n",
    "    #teremos um número de testes fixo com um tamanho de treino variável fixaremos o num_testes.\n",
    "    num_testes = 5\n",
    "    x_treino, x_teste, y_treino, y_teste = train_test_split(x, y, test_size=(num_testes/size), random_state=random_state)\n",
    "    tamanho_conjunto_treino.append(size-5)\n",
    "    conjunto_x_treino.append(x_treino)\n",
    "    conjunto_x_teste.append(x_teste)\n",
    "    conjunto_y_treino.append(y_treino)\n",
    "    conjunto_y_teste.append(y_teste)\n",
    "\n",
    "#Ok ficou um pouco feio essas 4 iteraçoes ao mesmo tempo. Porém num 'For' só estava dando um erro de raiz negativa que não consegui resolver\n",
    "#Desse jeito funcionou :)\n",
    "for x_train, x_test, y_train, y_test in zip(conjunto_x_treino, conjunto_x_teste, conjunto_y_treino, conjunto_y_teste):\n",
    "    X_treino_polinomial = np.column_stack([x_train ** i for i in range(1, degree+1)])\n",
    "    X_teste_polinomial = np.column_stack([x_test ** i for i in range(1, degree+1)])\n",
    "\n",
    "    # Cálculo dos coeficientes do modelo de regressão linear\n",
    "    theta = np.linalg.inv(X_treino_polinomial.T.dot(X_treino_polinomial)).dot(X_treino_polinomial.T).dot(y_train)\n",
    "\n",
    "    # Previsão no conjunto de treino e no conjunto teste respectivamente\n",
    "    y_treino_pred = X_treino_polinomial.dot(theta)\n",
    "    y_teste_pred = X_teste_polinomial.dot(theta)\n",
    "\n",
    "    # Cálculo do RMSE de treino e teste respectivamente adicionando-os numa lista\n",
    "    rmse_treino.append(np.sqrt(np.sum((y_train - y_treino_pred) ** 2) / len(y_train)))\n",
    "    rmse_teste.append(np.sqrt(np.sum((y_test - y_teste_pred) ** 2) / len(y_test)))\n",
    "\n",
    "plt.plot(tamanho_conjunto_treino, rmse_treino, label='Treinamento')\n",
    "plt.plot(tamanho_conjunto_treino, rmse_teste, label='Teste')\n",
    "plt.xlabel('Tamanho do conjunto de treinamento')\n",
    "plt.ylabel('RMSE')\n",
    "plt.legend()\n",
    "plt.show()\n",
    "    \n",
    "    \n"
   ]
  },
  {
   "cell_type": "markdown",
   "id": "b6315547-1273-42ae-973a-0825c2312804",
   "metadata": {},
   "source": [
    "# Classification with KNN\n",
    "In this exercise you will implement the K-nearest neighbours (K-NN) algorithm for binary classification without using any Python libraries such as scikit-learn. Use it to classify the Ionosphere dataset. You will also need to determine the optimal value of $K$ using the F1-score on a validation set and report the test set performance based on the F1-score.\n",
    "\n",
    "Dataset: The Ionosphere dataset contains radar data collected from a radar system in Goose Bay, Canada. The dataset contains 351 observations, with 34 attributes each. The last column represents the class, which is either \"good\" (1) or \"bad\" (0).\n",
    "\n",
    "Specifically:\n",
    "1. Load the Ionosphere dataset into a data frame and split it into a training set ($80\\%$), a validation set ($10\\%$), and a testing set ($10\\%$).\n",
    "    \n",
    "2. You will write code that implements the K-NN algorithm for binary classification. Use Euclidean distance as the distance metric.\n",
    "    - _Obs: it is better if you take only odd values of K, considering you are predicting the class based on the majority of the neighbours._\n",
    "\n",
    "\n",
    "3. Use the K-NN algorithm on the training set for a range of values of $K$ and evaluate its performance on the validation set using the F1-score. Plot the F1-score on the validation set against the range of values that were tried for $K$. Your plot should look like Figure 3. Choose the value of $K$ that gives the best F1-score.\n",
    "    - You will also have to implement the F1-score from scratch.\n",
    "\n",
    "\n",
    "4. Report the F1-score of the K-NN algorithm on the test set using the selected value of $K$.\n",
    "\n",
    "\n",
    "* __Note:__ You are not allowed to use any Python libraries such as scikit-learn to implement the K-NN algorithm or to calculate distances. You may use numpy or other basic libraries for matrix operations.\n",
    "\n",
    "* As a reminder, the F1-score is calculated as follows: $F1 = 2 \\times \\frac{precision \\times recall}{precision + recall}$ or $F1 = \\frac{TP}{TP + \\frac{1}{2} (FP + FN)}$\n",
    "    \n",
    "    "
   ]
  },
  {
   "cell_type": "markdown",
   "id": "a08168d9-c8d3-496c-b24e-3c6aa92cc406",
   "metadata": {},
   "source": [
    "### Preparing the dataset"
   ]
  },
  {
   "cell_type": "markdown",
   "id": "f3644c7b-3b33-4595-b49c-29b9a53ca088",
   "metadata": {},
   "source": [
    "Load the dataset into a pandas `DataFrame`, split the features from the target variable, and generate the training, validation and testing sets."
   ]
  },
  {
   "cell_type": "code",
   "execution_count": 65,
   "id": "836ed810-8ac1-4781-b4b7-ac9d46762ab6",
   "metadata": {
    "tags": []
   },
   "outputs": [],
   "source": [
    "iono_df = pd.read_csv('ionosphere_data_cleaned.csv')"
   ]
  },
  {
   "cell_type": "markdown",
   "id": "c0aec99a-7224-4d05-a4f3-23259d621b88",
   "metadata": {},
   "source": [
    "Let's inspect the dataset. There are 34 features and one target column"
   ]
  },
  {
   "cell_type": "code",
   "execution_count": 66,
   "id": "ec8beb33-b369-4fd7-a8f9-2eaa9e2ba92f",
   "metadata": {
    "tags": []
   },
   "outputs": [
    {
     "data": {
      "text/html": [
       "<div>\n",
       "<style scoped>\n",
       "    .dataframe tbody tr th:only-of-type {\n",
       "        vertical-align: middle;\n",
       "    }\n",
       "\n",
       "    .dataframe tbody tr th {\n",
       "        vertical-align: top;\n",
       "    }\n",
       "\n",
       "    .dataframe thead th {\n",
       "        text-align: right;\n",
       "    }\n",
       "</style>\n",
       "<table border=\"1\" class=\"dataframe\">\n",
       "  <thead>\n",
       "    <tr style=\"text-align: right;\">\n",
       "      <th></th>\n",
       "      <th>column_a</th>\n",
       "      <th>column_b</th>\n",
       "      <th>column_c</th>\n",
       "      <th>column_d</th>\n",
       "      <th>column_e</th>\n",
       "      <th>column_f</th>\n",
       "      <th>column_g</th>\n",
       "      <th>column_h</th>\n",
       "      <th>column_i</th>\n",
       "      <th>column_j</th>\n",
       "      <th>...</th>\n",
       "      <th>column_z</th>\n",
       "      <th>column_aa</th>\n",
       "      <th>column_ab</th>\n",
       "      <th>column_ac</th>\n",
       "      <th>column_ad</th>\n",
       "      <th>column_ae</th>\n",
       "      <th>column_af</th>\n",
       "      <th>column_ag</th>\n",
       "      <th>column_ah</th>\n",
       "      <th>label</th>\n",
       "    </tr>\n",
       "  </thead>\n",
       "  <tbody>\n",
       "    <tr>\n",
       "      <th>0</th>\n",
       "      <td>1.0</td>\n",
       "      <td>0.0</td>\n",
       "      <td>0.99539</td>\n",
       "      <td>-0.05889</td>\n",
       "      <td>0.85243</td>\n",
       "      <td>0.02306</td>\n",
       "      <td>0.83398</td>\n",
       "      <td>-0.37708</td>\n",
       "      <td>1.00000</td>\n",
       "      <td>0.03760</td>\n",
       "      <td>...</td>\n",
       "      <td>-0.51171</td>\n",
       "      <td>0.41078</td>\n",
       "      <td>-0.46168</td>\n",
       "      <td>0.21266</td>\n",
       "      <td>-0.34090</td>\n",
       "      <td>0.42267</td>\n",
       "      <td>-0.54487</td>\n",
       "      <td>0.18641</td>\n",
       "      <td>-0.45300</td>\n",
       "      <td>1</td>\n",
       "    </tr>\n",
       "    <tr>\n",
       "      <th>1</th>\n",
       "      <td>1.0</td>\n",
       "      <td>0.0</td>\n",
       "      <td>1.00000</td>\n",
       "      <td>-0.18829</td>\n",
       "      <td>0.93035</td>\n",
       "      <td>-0.36156</td>\n",
       "      <td>-0.10868</td>\n",
       "      <td>-0.93597</td>\n",
       "      <td>1.00000</td>\n",
       "      <td>-0.04549</td>\n",
       "      <td>...</td>\n",
       "      <td>-0.26569</td>\n",
       "      <td>-0.20468</td>\n",
       "      <td>-0.18401</td>\n",
       "      <td>-0.19040</td>\n",
       "      <td>-0.11593</td>\n",
       "      <td>-0.16626</td>\n",
       "      <td>-0.06288</td>\n",
       "      <td>-0.13738</td>\n",
       "      <td>-0.02447</td>\n",
       "      <td>0</td>\n",
       "    </tr>\n",
       "    <tr>\n",
       "      <th>2</th>\n",
       "      <td>1.0</td>\n",
       "      <td>0.0</td>\n",
       "      <td>1.00000</td>\n",
       "      <td>-0.03365</td>\n",
       "      <td>1.00000</td>\n",
       "      <td>0.00485</td>\n",
       "      <td>1.00000</td>\n",
       "      <td>-0.12062</td>\n",
       "      <td>0.88965</td>\n",
       "      <td>0.01198</td>\n",
       "      <td>...</td>\n",
       "      <td>-0.40220</td>\n",
       "      <td>0.58984</td>\n",
       "      <td>-0.22145</td>\n",
       "      <td>0.43100</td>\n",
       "      <td>-0.17365</td>\n",
       "      <td>0.60436</td>\n",
       "      <td>-0.24180</td>\n",
       "      <td>0.56045</td>\n",
       "      <td>-0.38238</td>\n",
       "      <td>1</td>\n",
       "    </tr>\n",
       "    <tr>\n",
       "      <th>3</th>\n",
       "      <td>1.0</td>\n",
       "      <td>0.0</td>\n",
       "      <td>1.00000</td>\n",
       "      <td>-0.45161</td>\n",
       "      <td>1.00000</td>\n",
       "      <td>1.00000</td>\n",
       "      <td>0.71216</td>\n",
       "      <td>-1.00000</td>\n",
       "      <td>0.00000</td>\n",
       "      <td>0.00000</td>\n",
       "      <td>...</td>\n",
       "      <td>0.90695</td>\n",
       "      <td>0.51613</td>\n",
       "      <td>1.00000</td>\n",
       "      <td>1.00000</td>\n",
       "      <td>-0.20099</td>\n",
       "      <td>0.25682</td>\n",
       "      <td>1.00000</td>\n",
       "      <td>-0.32382</td>\n",
       "      <td>1.00000</td>\n",
       "      <td>0</td>\n",
       "    </tr>\n",
       "    <tr>\n",
       "      <th>4</th>\n",
       "      <td>1.0</td>\n",
       "      <td>0.0</td>\n",
       "      <td>1.00000</td>\n",
       "      <td>-0.02401</td>\n",
       "      <td>0.94140</td>\n",
       "      <td>0.06531</td>\n",
       "      <td>0.92106</td>\n",
       "      <td>-0.23255</td>\n",
       "      <td>0.77152</td>\n",
       "      <td>-0.16399</td>\n",
       "      <td>...</td>\n",
       "      <td>-0.65158</td>\n",
       "      <td>0.13290</td>\n",
       "      <td>-0.53206</td>\n",
       "      <td>0.02431</td>\n",
       "      <td>-0.62197</td>\n",
       "      <td>-0.05707</td>\n",
       "      <td>-0.59573</td>\n",
       "      <td>-0.04608</td>\n",
       "      <td>-0.65697</td>\n",
       "      <td>1</td>\n",
       "    </tr>\n",
       "  </tbody>\n",
       "</table>\n",
       "<p>5 rows × 35 columns</p>\n",
       "</div>"
      ],
      "text/plain": [
       "   column_a  column_b  column_c  column_d  column_e  column_f  column_g  \\\n",
       "0       1.0       0.0   0.99539  -0.05889   0.85243   0.02306   0.83398   \n",
       "1       1.0       0.0   1.00000  -0.18829   0.93035  -0.36156  -0.10868   \n",
       "2       1.0       0.0   1.00000  -0.03365   1.00000   0.00485   1.00000   \n",
       "3       1.0       0.0   1.00000  -0.45161   1.00000   1.00000   0.71216   \n",
       "4       1.0       0.0   1.00000  -0.02401   0.94140   0.06531   0.92106   \n",
       "\n",
       "   column_h  column_i  column_j  ...  column_z  column_aa  column_ab  \\\n",
       "0  -0.37708   1.00000   0.03760  ...  -0.51171    0.41078   -0.46168   \n",
       "1  -0.93597   1.00000  -0.04549  ...  -0.26569   -0.20468   -0.18401   \n",
       "2  -0.12062   0.88965   0.01198  ...  -0.40220    0.58984   -0.22145   \n",
       "3  -1.00000   0.00000   0.00000  ...   0.90695    0.51613    1.00000   \n",
       "4  -0.23255   0.77152  -0.16399  ...  -0.65158    0.13290   -0.53206   \n",
       "\n",
       "   column_ac  column_ad  column_ae  column_af  column_ag  column_ah  label  \n",
       "0    0.21266   -0.34090    0.42267   -0.54487    0.18641   -0.45300      1  \n",
       "1   -0.19040   -0.11593   -0.16626   -0.06288   -0.13738   -0.02447      0  \n",
       "2    0.43100   -0.17365    0.60436   -0.24180    0.56045   -0.38238      1  \n",
       "3    1.00000   -0.20099    0.25682    1.00000   -0.32382    1.00000      0  \n",
       "4    0.02431   -0.62197   -0.05707   -0.59573   -0.04608   -0.65697      1  \n",
       "\n",
       "[5 rows x 35 columns]"
      ]
     },
     "execution_count": 66,
     "metadata": {},
     "output_type": "execute_result"
    }
   ],
   "source": [
    "iono_df.head()"
   ]
  },
  {
   "cell_type": "markdown",
   "id": "780db93b-1cb3-4b48-8c3a-4980acb0d403",
   "metadata": {},
   "source": [
    "We can inspect the class distribution by using `value_counts()` on the target column"
   ]
  },
  {
   "cell_type": "code",
   "execution_count": 67,
   "id": "d45c38ad-e30c-4f0a-823e-aa8f89eec215",
   "metadata": {
    "tags": []
   },
   "outputs": [
    {
     "data": {
      "text/plain": [
       "1    225\n",
       "0    126\n",
       "Name: label, dtype: int64"
      ]
     },
     "execution_count": 67,
     "metadata": {},
     "output_type": "execute_result"
    }
   ],
   "source": [
    "iono_df.label.value_counts()"
   ]
  },
  {
   "cell_type": "markdown",
   "id": "96457fef-33a8-4ac7-8254-2559ee8d9d89",
   "metadata": {},
   "source": [
    "Let's separate our features from our target column"
   ]
  },
  {
   "cell_type": "code",
   "execution_count": 68,
   "id": "61f8b701-9d51-4545-804c-966ceb0929f3",
   "metadata": {
    "tags": []
   },
   "outputs": [],
   "source": [
    "X_io = iono_df.values[:, :-1]\n",
    "y_io = iono_df.values[:, -1]"
   ]
  },
  {
   "cell_type": "markdown",
   "id": "5268baac-164d-4c23-92d2-fa5eeffca5bb",
   "metadata": {},
   "source": [
    "Now you will write code to split the data into training ($80\\%$), validation ($10\\%$), and testing ($10\\%$). \n",
    "\n",
    "You can use `train_test_split()` but make sure to calculate the right proportions and remember that this only returns 2 different sets, not 3."
   ]
  },
  {
   "cell_type": "code",
   "execution_count": 69,
   "id": "92a12994-bbac-4ba3-b115-0de949b87231",
   "metadata": {
    "tags": []
   },
   "outputs": [],
   "source": [
    "# set the random_state for reproducibilty of your results\n",
    "random_state = 42\n"
   ]
  },
  {
   "cell_type": "code",
   "execution_count": 70,
   "id": "40f9fff4-e811-41a0-940b-1539a002c3d5",
   "metadata": {},
   "outputs": [],
   "source": [
    "# your code goes here:\n",
    "\n",
    "# Separando 80% para treino e 20% para teste\n",
    "X_treino, X_teste, Y_treino, Y_teste = train_test_split(X_io, y_io, test_size=0.2, random_state=42)\n",
    "\n",
    "# Separando metade dos dados de teste para validação e 50% para teste final\n",
    "X_validacao, X_teste_final, Y_validacao, Y_teste_final = train_test_split(X_teste, Y_teste, test_size=0.5, random_state=42)\n",
    "\n",
    "#Temos então separados 80% pros treinos 10% pros testes e 10% pra validação"
   ]
  },
  {
   "cell_type": "markdown",
   "id": "c36e0e12-6f05-415e-9736-e980667818c3",
   "metadata": {},
   "source": [
    "### Here you will implement the KNN algorithm using the euclidean distance"
   ]
  },
  {
   "cell_type": "code",
   "execution_count": 71,
   "id": "87585ca3-a5f7-4155-822d-bafcc3be3d5c",
   "metadata": {},
   "outputs": [],
   "source": [
    "# your code goes here:\n",
    "def distancia_euclidiana(x1, x2):\n",
    "    x1 = np.asarray(x1)\n",
    "    x2 = np.asarray(x2)\n",
    "    return np.sqrt(np.sum((x1 - x2) ** 2))"
   ]
  },
  {
   "cell_type": "code",
   "execution_count": 72,
   "id": "f56f6ba5-944e-4109-b423-7dec4890036a",
   "metadata": {},
   "outputs": [],
   "source": [
    "def knn_predict(X_train, y_train, X_test, k):\n",
    "    \"\"\"\n",
    "    Realiza a previsão utilizando o algoritmo k-NN com distância euclidiana.\n",
    "\n",
    "    Args:\n",
    "        X_train (numpy.ndarray): Conjunto de treinamento com as amostras e suas características.\n",
    "        y_train (numpy.ndarray): Conjunto de treinamento com os rótulos.\n",
    "        X_test (numpy.ndarray): Conjunto de teste com as amostras e suas características.\n",
    "        k (int): Quantidade de vizinhos mais próximos a serem utilizados.\n",
    "\n",
    "    Returns:\n",
    "        y_pred numpy.ndarray: Previsões para o conjunto de teste.\n",
    "    \"\"\"\n",
    "    # Obtém o número de amostras no conjunto de teste e cria um array numpy para armazenar as previsões\n",
    "    n_test_samples = X_test.shape[0]\n",
    "    y_pred = np.zeros(n_test_samples, dtype=int)\n",
    "\n",
    "    #Calcula a distância euclidiana entre a amostra do conjunto de teste e cada amostra do conjunto de treinamento\n",
    "    for i in range(n_test_samples):\n",
    "        distances = np.array([distancia_euclidiana(X_train[j], X_test[i]) for j in range(X_train.shape[0])])\n",
    "\n",
    "        #Obtém os índices e rótulos dos k-vizinhos mais próximos\n",
    "        nearest_indices = np.argsort(distances)[:k]\n",
    "        nearest_classes = y_train[nearest_indices]\n",
    "\n",
    "        # Conta a quantidade de cada rótulo presente nos k-vizinhos mais próximos e armazena o mais frequente com a previsao\n",
    "        counts = np.bincount(nearest_classes.astype(int))\n",
    "        y_pred[i] = np.argmax(counts)\n",
    "\n",
    "    return y_pred"
   ]
  },
  {
   "cell_type": "markdown",
   "id": "1443e168-3fec-40a9-84e5-a5bb3e03352d",
   "metadata": {},
   "source": [
    "### Select the optimal $K$ by plotting the F1 score in the validation set at different values of $K$"
   ]
  },
  {
   "cell_type": "markdown",
   "id": "17ec49e0-84eb-41e5-a6d3-b124520f2aa6",
   "metadata": {},
   "source": [
    "First create a function that calculates the F1-score"
   ]
  },
  {
   "cell_type": "code",
   "execution_count": 73,
   "id": "6179ed96-a064-4c7b-8f6b-aa11425da940",
   "metadata": {},
   "outputs": [],
   "source": [
    "# your code goes here:\n",
    "def calculate_f1_score(y_verdadeiro, y_pred):\n",
    "    # usaremos verdadeiros positivos e falsos positivos para determinar a precisão\n",
    "    tp = 0 \n",
    "    fp = 0 \n",
    "    for i in range(len(y_verdadeiro)):\n",
    "        if y_pred[i] == 1 and y_verdadeiro[i] == 1:\n",
    "            tp += 1\n",
    "        elif y_pred[i] == 1 and y_verdadeiro[i] == 0:\n",
    "            fp += 1\n",
    "    precisao = tp / (tp + fp)\n",
    "    #Usaremo verdadeiros positivos e falsos negativos para determinar o recall\n",
    "    recall_tp = 0\n",
    "    fn = 0\n",
    "    for i in range(len(y_verdadeiro)):\n",
    "        if y_pred[i] == 1 and y_verdadeiro[i] == 1:\n",
    "            recall_tp += 1\n",
    "        elif y_pred[i] == 0 and y_verdadeiro[i] == 1:\n",
    "            fn += 1\n",
    "    recall = recall_tp / (recall_tp + fn)\n",
    "\n",
    "    f1 = 2 * (precisao * recall) / (precisao + recall)\n",
    "    return f1  "
   ]
  },
  {
   "cell_type": "markdown",
   "id": "d6df1af4-5361-4cb3-baaa-23ae6470c0e2",
   "metadata": {},
   "source": [
    "Generate the plot and select the optimal $K$"
   ]
  },
  {
   "cell_type": "code",
   "execution_count": 77,
   "id": "41ae15c8-b904-4383-92a1-616bd0f3b4bf",
   "metadata": {},
   "outputs": [
    {
     "data": {
      "text/plain": [
       "Text(0, 0.5, 'F1 score')"
      ]
     },
     "execution_count": 77,
     "metadata": {},
     "output_type": "execute_result"
    },
    {
     "data": {
      "image/png": "[encoded data removed]",
      "text/plain": [
       "<Figure size 640x480 with 1 Axes>"
      ]
     },
     "metadata": {},
     "output_type": "display_data"
    }
   ],
   "source": [
    "# your code goes here:\n",
    "k_values = list(range(1, 32, 2))\n",
    "valores_f1 = []\n",
    "#Usa knn para predizer y e calcula o f1 score para cada k é feito o plot disso\n",
    "for k in k_values:\n",
    "    y_pred = knn_predict(X_treino, Y_treino, X_validacao, k)\n",
    "    f1 = calculate_f1_score(Y_validacao, y_pred)\n",
    "    valores_f1.append(f1)\n",
    "                      \n",
    "# Plotar pontuações F1 em relação aos valores de K tentados\n",
    "plt.plot(k_values, valores_f1)\n",
    "plt.xlabel('Valores de K')\n",
    "plt.ylabel('F1 score')"
   ]
  },
  {
   "cell_type": "markdown",
   "id": "08575674-1b72-4c31-90c2-8e3891af6762",
   "metadata": {},
   "source": [
    "Calculate the test set performance using the optimal $K$"
   ]
  },
  {
   "cell_type": "code",
   "execution_count": 78,
   "id": "ff7c6e2a-84a0-42ea-9b7f-b343072355cf",
   "metadata": {},
   "outputs": [
    {
     "name": "stdout",
     "output_type": "stream",
     "text": [
      "O valor ótimo de k foi encontrado como: 15\n",
      "O desempenho F1 no conjunto de teste final foi de: 0.8627450980392156\n"
     ]
    }
   ],
   "source": [
    "# your code goes here:\n",
    "\n",
    "# Inicializando as variáveis de melhor desempenho e seu respectivo k\n",
    "otimo_k = None\n",
    "melhor_performance = 0\n",
    "#Usaremos A lista de K usada no gráfico\n",
    "\n",
    "# Loop para buscar o melhor k\n",
    "for k in k_values:\n",
    "    # Realizando a previsão com k vizinhos mais próximos\n",
    "    Y_predicao = knn_predict(X_treino, Y_treino, X_validacao, k)\n",
    "\n",
    "    # Calculando o desempenho F1 para o conjunto de validação\n",
    "    f1_validacao = calculate_f1_score(Y_validacao, Y_predicao)\n",
    "\n",
    "    # Verificando se o desempenho atual é melhor que o melhor desempenho até agora\n",
    "    if f1_validacao > melhor_performance:\n",
    "        melhor_performance = f1_validacao\n",
    "        otimo_k = k\n",
    "\n",
    "# Utilizando o melhor k encontrado para realizar a previsão no conjunto de teste final\n",
    "Y_predicao_final = knn_predict(X_treino, Y_treino, X_teste_final, otimo_k)\n",
    "\n",
    "# Calculando o desempenho F1 para o conjunto de teste final\n",
    "f1_teste_final = calculate_f1_score(Y_teste_final, Y_predicao_final)\n",
    "\n",
    "# Imprimindo o desempenho final\n",
    "print(\"O valor ótimo de k foi encontrado como:\", otimo_k)\n",
    "print(\"O desempenho F1 no conjunto de teste final foi de:\", f1_teste_final)"
   ]
  }
 ],
 "metadata": {
  "kernelspec": {
   "display_name": "Python 3 (ipykernel)",
   "language": "python",
   "name": "python3"
  },
  "language_info": {
   "codemirror_mode": {
    "name": "ipython",
    "version": 3
   },
   "file_extension": ".py",
   "mimetype": "text/x-python",
   "name": "python",
   "nbconvert_exporter": "python",
   "pygments_lexer": "ipython3",
   "version": "3.10.4"
  }
 },
 "nbformat": 4,
 "nbformat_minor": 5
}
